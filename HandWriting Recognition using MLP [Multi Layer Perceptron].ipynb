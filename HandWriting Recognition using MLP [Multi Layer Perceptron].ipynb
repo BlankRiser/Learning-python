{
 "cells": [
  {
   "cell_type": "markdown",
   "metadata": {},
   "source": [
    "# Welcome to Jupyter!"
   ]
  },
  {
   "cell_type": "markdown",
   "metadata": {},
   "source": [
    "You can also get this tutorial and run it on your laptop:\n",
    "\n",
    "    git clone https://github.com/ipython/ipython-in-depth\n",
    "\n",
    "Install IPython and Jupyter:\n",
    "\n",
    "with [conda](https://www.anaconda.com/download):\n",
    "\n",
    "    conda install ipython jupyter\n",
    "\n",
    "with pip:\n",
    "\n",
    "    # first, always upgrade pip!\n",
    "    pip install --upgrade pip\n",
    "    pip install --upgrade ipython jupyter\n",
    "\n",
    "Start the notebook in the tutorial directory:\n",
    "\n",
    "    cd ipython-in-depth\n",
    "    jupyter notebook"
   ]
  },
  {
   "cell_type": "markdown",
   "metadata": {},
   "source": [
    "# Hand-written Digit Recognition\n"
   ]
  },
  {
   "cell_type": "markdown",
   "metadata": {},
   "source": [
    "Throught this following notebook we shall be using a package called scikit-learn(sklearn).<br>\n",
    "This module contains all the requried resources we'll be needing for our digit-recognizer.<br>\n",
    "The following items are imported from the mod:\n",
    "   * datasets = contains the data requried for our program(data from images of hand-written digits)\n",
    "   * svm = learning model \n",
    "   * cross_validation.train_test_split = (helper funtion)which we shall use to split out dataset into training and testing samples.\n",
    "   * matplotlib.pyplot = for plotting out the images "
   ]
  },
  {
   "cell_type": "code",
   "execution_count": 52,
   "metadata": {},
   "outputs": [],
   "source": [
    "#!pip3 install sklearn\n",
    "#!pip3 install matplotlib"
   ]
  },
  {
   "cell_type": "code",
   "execution_count": 53,
   "metadata": {},
   "outputs": [],
   "source": [
    "#Importing dependencies\n",
    "from sklearn import datasets,svm\n",
    "from sklearn.cross_validation import train_test_split\n",
    "from sklearn.neural_network import MLPClassifier\n",
    "import matplotlib.pyplot as plt\n",
    "import sklearn.neural_network as nn"
   ]
  },
  {
   "cell_type": "code",
   "execution_count": 54,
   "metadata": {
    "collapsed": true
   },
   "outputs": [],
   "source": [
    "\n",
    "#IMPORT DATA\n",
    "dataset=datasets.load_digits()\n"
   ]
  },
  {
   "cell_type": "code",
   "execution_count": 55,
   "metadata": {},
   "outputs": [
    {
     "name": "stdout",
     "output_type": "stream",
     "text": [
      "Optical Recognition of Handwritten Digits Data Set\n",
      "===================================================\n",
      "\n",
      "Notes\n",
      "-----\n",
      "Data Set Characteristics:\n",
      "    :Number of Instances: 5620\n",
      "    :Number of Attributes: 64\n",
      "    :Attribute Information: 8x8 image of integer pixels in the range 0..16.\n",
      "    :Missing Attribute Values: None\n",
      "    :Creator: E. Alpaydin (alpaydin '@' boun.edu.tr)\n",
      "    :Date: July; 1998\n",
      "\n",
      "This is a copy of the test set of the UCI ML hand-written digits datasets\n",
      "http://archive.ics.uci.edu/ml/datasets/Optical+Recognition+of+Handwritten+Digits\n",
      "\n",
      "The data set contains images of hand-written digits: 10 classes where\n",
      "each class refers to a digit.\n",
      "\n",
      "Preprocessing programs made available by NIST were used to extract\n",
      "normalized bitmaps of handwritten digits from a preprinted form. From a\n",
      "total of 43 people, 30 contributed to the training set and different 13\n",
      "to the test set. 32x32 bitmaps are divided into nonoverlapping blocks of\n",
      "4x4 and the number of on pixels are counted in each block. This generates\n",
      "an input matrix of 8x8 where each element is an integer in the range\n",
      "0..16. This reduces dimensionality and gives invariance to small\n",
      "distortions.\n",
      "\n",
      "For info on NIST preprocessing routines, see M. D. Garris, J. L. Blue, G.\n",
      "T. Candela, D. L. Dimmick, J. Geist, P. J. Grother, S. A. Janet, and C.\n",
      "L. Wilson, NIST Form-Based Handprint Recognition System, NISTIR 5469,\n",
      "1994.\n",
      "\n",
      "References\n",
      "----------\n",
      "  - C. Kaynak (1995) Methods of Combining Multiple Classifiers and Their\n",
      "    Applications to Handwritten Digit Recognition, MSc Thesis, Institute of\n",
      "    Graduate Studies in Science and Engineering, Bogazici University.\n",
      "  - E. Alpaydin, C. Kaynak (1998) Cascading Classifiers, Kybernetika.\n",
      "  - Ken Tang and Ponnuthurai N. Suganthan and Xi Yao and A. Kai Qin.\n",
      "    Linear dimensionalityreduction using relevance weighted LDA. School of\n",
      "    Electrical and Electronic Engineering Nanyang Technological University.\n",
      "    2005.\n",
      "  - Claudio Gentile. A New Approximate Maximal Margin Classification\n",
      "    Algorithm. NIPS. 2000.\n",
      "\n"
     ]
    }
   ],
   "source": [
    "print(dataset.DESCR)"
   ]
  },
  {
   "cell_type": "markdown",
   "metadata": {},
   "source": [
    "\n",
    "* Let us store our images and labels of what those images are in variables img_data and output_labels respectively."
   ]
  },
  {
   "cell_type": "code",
   "execution_count": 56,
   "metadata": {
    "collapsed": true
   },
   "outputs": [],
   "source": [
    "img_data=dataset.images\n",
    "output_label=dataset.target"
   ]
  },
  {
   "cell_type": "markdown",
   "metadata": {},
   "source": [
    "## Lets have a look at some image data"
   ]
  },
  {
   "cell_type": "code",
   "execution_count": 57,
   "metadata": {},
   "outputs": [
    {
     "data": {
      "image/png": "[encoded data removed]",
      "text/plain": [
       "<Figure size 432x288 with 1 Axes>"
      ]
     },
     "metadata": {},
     "output_type": "display_data"
    },
    {
     "name": "stdout",
     "output_type": "stream",
     "text": [
      "Output Label :  0\n"
     ]
    },
    {
     "data": {
      "image/png": "[encoded data removed]",
      "text/plain": [
       "<Figure size 432x288 with 1 Axes>"
      ]
     },
     "metadata": {},
     "output_type": "display_data"
    },
    {
     "name": "stdout",
     "output_type": "stream",
     "text": [
      "Output Label :  1\n"
     ]
    },
    {
     "data": {
      "image/png": "[encoded data removed]",
      "text/plain": [
       "<Figure size 432x288 with 1 Axes>"
      ]
     },
     "metadata": {},
     "output_type": "display_data"
    },
    {
     "name": "stdout",
     "output_type": "stream",
     "text": [
      "Output Label :  2\n"
     ]
    }
   ],
   "source": [
    "\n",
    "#Display few images with labels\n",
    "for i in range(3):\n",
    "    plt.imshow(img_data[i])\n",
    "    plt.show()\n",
    "    print(\"Output Label : \",output_label[i])\n",
    "    "
   ]
  },
  {
   "cell_type": "markdown",
   "metadata": {},
   "source": [
    "## How do we make the machine understand our data ?\n",
    "\n",
    "Our training data is in the form of images.But how does the computer interpret it?\n",
    "The best was for us to represent our data is in the form of vectors.\n",
    "Here we have 2-D , 8x8 images and we need to reshape each image it into one vector(i.e- of lenght 64)<br>\n",
    "This step is often reffered to as <b>data-preprocessing</b>.<br>\n"
   ]
  },
  {
   "cell_type": "code",
   "execution_count": 58,
   "metadata": {},
   "outputs": [
    {
     "data": {
      "image/png": "[encoded data removed]",
      "text/plain": [
       "<Figure size 432x288 with 1 Axes>"
      ]
     },
     "metadata": {},
     "output_type": "display_data"
    },
    {
     "name": "stdout",
     "output_type": "stream",
     "text": [
      "Output Label :  0\n",
      "The vector i is : \n",
      " [ 0.  0.  5. 13.  9.  1.  0.  0.  0.  0. 13. 15. 10. 15.  5.  0.  0.  3.\n",
      " 15.  2.  0. 11.  8.  0.  0.  4. 12.  0.  0.  8.  8.  0.  0.  5.  8.  0.\n",
      "  0.  9.  8.  0.  0.  4. 11.  0.  1. 12.  7.  0.  0.  2. 14.  5. 10. 12.\n",
      "  0.  0.  0.  0.  6. 13. 10.  0.  0.  0.]\n",
      "Shape of i : (1, 64)\n"
     ]
    }
   ],
   "source": [
    "\n",
    "'''\n",
    "RESHAPE IMAGES(FLATTEN)\n",
    "We can show how the image is converted to a column vector. \n",
    "Original Img-dim = 8x8\n",
    "Result vector = 1x64 \n",
    "'''\n",
    "#Taking one sample image as i \n",
    "i=img_data[0]\n",
    "\n",
    "#Check what the image is \n",
    "plt.imshow(img_data[0])\n",
    "plt.show()\n",
    "print (\"Output Label : \",output_label[0])\n",
    "\n",
    "#Vectorizing the 2-D image\n",
    "i=i.reshape((64,1))\n",
    "#Transposing the column vector to be stored in the dataset\n",
    "i=i.T \n",
    "\n",
    "#Showing i is same as training_data\n",
    "print (\"The vector i is : \\n\",i[0])\n",
    "print(\"Shape of i :\",i.shape)\n"
   ]
  },
  {
   "cell_type": "code",
   "execution_count": null,
   "metadata": {
    "collapsed": true
   },
   "outputs": [],
   "source": []
  },
  {
   "cell_type": "markdown",
   "metadata": {},
   "source": [
    "### Lucky for us!\n",
    "\n",
    "The digits dataset we have ,already has the images converted into a numpy array.We will be using this numerical data now. :)"
   ]
  },
  {
   "cell_type": "code",
   "execution_count": 59,
   "metadata": {
    "collapsed": true
   },
   "outputs": [],
   "source": [
    "#And so now we shall use the dataset.data for furthur use. \n",
    "training_data=dataset.data\n"
   ]
  },
  {
   "cell_type": "code",
   "execution_count": 60,
   "metadata": {},
   "outputs": [
    {
     "name": "stdout",
     "output_type": "stream",
     "text": [
      "[ 0.  0.  5. 13.  9.  1.  0.  0.  0.  0. 13. 15. 10. 15.  5.  0.  0.  3.\n",
      " 15.  2.  0. 11.  8.  0.  0.  4. 12.  0.  0.  8.  8.  0.  0.  5.  8.  0.\n",
      "  0.  9.  8.  0.  0.  4. 11.  0.  1. 12.  7.  0.  0.  2. 14.  5. 10. 12.\n",
      "  0.  0.  0.  0.  6. 13. 10.  0.  0.  0.]\n",
      "Shape :  (1797, 64)\n"
     ]
    }
   ],
   "source": [
    "#Lets make sure its the same \n",
    "print(training_data[0])\n",
    "print(\"Shape : \",training_data.shape)"
   ]
  },
  {
   "cell_type": "code",
   "execution_count": 61,
   "metadata": {},
   "outputs": [
    {
     "name": "stdout",
     "output_type": "stream",
     "text": [
      "Total number of samples :  1797\n",
      "Number of training samples :  1347\n",
      "Number of testing samples :  450\n"
     ]
    }
   ],
   "source": [
    "#TRAIN-TEST SPLIT\n",
    "\n",
    "X_train,X_test,y_train,y_test = train_test_split(training_data,output_label)\n",
    "print(\"Total number of samples : \",len(training_data))\n",
    "print(\"Number of training samples : \",len(X_train))\n",
    "print(\"Number of testing samples : \",len(X_test))"
   ]
  },
  {
   "cell_type": "markdown",
   "metadata": {},
   "source": [
    "# Defining the learning model\n",
    " \n",
    "### MLP (Multi-Layer Perceptron)"
   ]
  },
  {
   "cell_type": "code",
   "execution_count": 74,
   "metadata": {},
   "outputs": [],
   "source": [
    "\n",
    "#Defining ous model - Multi Layer Perceptron\n",
    "model=MLPClassifier(hidden_layer_sizes=(64,128,64,10),verbose=True)\n",
    "                    #(32,128,256,128,32,10))\n"
   ]
  },
  {
   "cell_type": "markdown",
   "metadata": {},
   "source": [
    "### Training\n",
    "Now we will train our SVM using the training data we had split from the original dataset.(i.e - X_train , y_train )"
   ]
  },
  {
   "cell_type": "code",
   "execution_count": 75,
   "metadata": {},
   "outputs": [
    {
     "name": "stdout",
     "output_type": "stream",
     "text": [
      "Iteration 1, loss = 2.61155405\n",
      "Iteration 2, loss = 1.79844934\n",
      "Iteration 3, loss = 1.49033139\n",
      "Iteration 4, loss = 1.25387473\n",
      "Iteration 5, loss = 1.07662620\n",
      "Iteration 6, loss = 0.93841767\n",
      "Iteration 7, loss = 0.81920368\n",
      "Iteration 8, loss = 0.68008650\n",
      "Iteration 9, loss = 0.54154401\n",
      "Iteration 10, loss = 0.45690169\n",
      "Iteration 11, loss = 0.38729756\n",
      "Iteration 12, loss = 0.32826706\n",
      "Iteration 13, loss = 0.27581759\n",
      "Iteration 14, loss = 0.22854166\n",
      "Iteration 15, loss = 0.19303373\n",
      "Iteration 16, loss = 0.15567661\n",
      "Iteration 17, loss = 0.12607195\n",
      "Iteration 18, loss = 0.10563596\n",
      "Iteration 19, loss = 0.09001996\n",
      "Iteration 20, loss = 0.07744777\n",
      "Iteration 21, loss = 0.06674822\n",
      "Iteration 22, loss = 0.05782977\n",
      "Iteration 23, loss = 0.05143641\n",
      "Iteration 24, loss = 0.04400343\n",
      "Iteration 25, loss = 0.03999499\n",
      "Iteration 26, loss = 0.03642126\n",
      "Iteration 27, loss = 0.03167276\n",
      "Iteration 28, loss = 0.02879737\n",
      "Iteration 29, loss = 0.02635282\n",
      "Iteration 30, loss = 0.02390033\n",
      "Iteration 31, loss = 0.02229631\n",
      "Iteration 32, loss = 0.02102651\n",
      "Iteration 33, loss = 0.01938716\n",
      "Iteration 34, loss = 0.01814796\n",
      "Iteration 35, loss = 0.01714418\n",
      "Iteration 36, loss = 0.01638923\n",
      "Iteration 37, loss = 0.01533341\n",
      "Iteration 38, loss = 0.01456711\n",
      "Iteration 39, loss = 0.01407993\n",
      "Iteration 40, loss = 0.01336342\n",
      "Iteration 41, loss = 0.01271407\n",
      "Iteration 42, loss = 0.01216384\n",
      "Iteration 43, loss = 0.01118367\n",
      "Iteration 44, loss = 0.01044571\n",
      "Iteration 45, loss = 0.00965254\n",
      "Iteration 46, loss = 0.00878954\n",
      "Iteration 47, loss = 0.00807203\n",
      "Iteration 48, loss = 0.00750234\n",
      "Iteration 49, loss = 0.00700836\n",
      "Iteration 50, loss = 0.00654546\n",
      "Iteration 51, loss = 0.00621463\n",
      "Iteration 52, loss = 0.00575001\n",
      "Iteration 53, loss = 0.00555328\n",
      "Iteration 54, loss = 0.00521993\n",
      "Iteration 55, loss = 0.00493735\n",
      "Iteration 56, loss = 0.00477917\n",
      "Iteration 57, loss = 0.00456709\n",
      "Iteration 58, loss = 0.00436767\n",
      "Iteration 59, loss = 0.00411895\n",
      "Iteration 60, loss = 0.00401006\n",
      "Iteration 61, loss = 0.00376473\n",
      "Iteration 62, loss = 0.00361854\n",
      "Iteration 63, loss = 0.00345760\n",
      "Iteration 64, loss = 0.00333526\n",
      "Iteration 65, loss = 0.00316766\n",
      "Iteration 66, loss = 0.00305211\n",
      "Iteration 67, loss = 0.00291090\n",
      "Iteration 68, loss = 0.00281582\n",
      "Iteration 69, loss = 0.00269651\n",
      "Iteration 70, loss = 0.00256056\n",
      "Iteration 71, loss = 0.00247325\n",
      "Iteration 72, loss = 0.00238173\n",
      "Iteration 73, loss = 0.00230280\n",
      "Training loss did not improve more than tol=0.000100 for two consecutive epochs. Stopping.\n"
     ]
    },
    {
     "data": {
      "text/plain": [
       "MLPClassifier(activation='relu', alpha=0.0001, batch_size='auto', beta_1=0.9,\n",
       "       beta_2=0.999, early_stopping=False, epsilon=1e-08,\n",
       "       hidden_layer_sizes=(64, 128, 64, 10), learning_rate='constant',\n",
       "       learning_rate_init=0.001, max_iter=200, momentum=0.9,\n",
       "       nesterovs_momentum=True, power_t=0.5, random_state=None,\n",
       "       shuffle=True, solver='adam', tol=0.0001, validation_fraction=0.1,\n",
       "       verbose=True, warm_start=False)"
      ]
     },
     "execution_count": 75,
     "metadata": {},
     "output_type": "execute_result"
    }
   ],
   "source": [
    "#Fitting the training data to the model\n",
    "model.fit(X_train,y_train)"
   ]
  },
  {
   "cell_type": "markdown",
   "metadata": {},
   "source": [
    "### Making prediction"
   ]
  },
  {
   "cell_type": "code",
   "execution_count": 76,
   "metadata": {
    "collapsed": true
   },
   "outputs": [],
   "source": [
    "#Making predictions with out model\n",
    "prediction=model.predict(X_test)"
   ]
  },
  {
   "cell_type": "code",
   "execution_count": 77,
   "metadata": {},
   "outputs": [
    {
     "data": {
      "text/plain": [
       "array([7, 5, 6, 0, 9, 0, 9, 2, 5, 4, 8, 0, 2, 4, 2, 7, 6, 9, 7, 7, 9, 8,\n",
       "       4, 0, 2, 2, 0, 0, 6, 0, 8, 2, 5, 1, 0, 5, 8, 1, 6, 3, 8, 5, 7, 5,\n",
       "       1, 9, 3, 9, 0, 9, 9, 7, 8, 7, 8, 3, 4, 4, 1, 4, 5, 7, 7, 9, 0, 0,\n",
       "       4, 0, 6, 7, 3, 3, 0, 7, 7, 2, 1, 8, 8, 1, 9, 2, 2, 8, 1, 1, 3, 5,\n",
       "       4, 7, 0, 1, 8, 5, 6, 6, 6, 9, 3, 2, 0, 0, 9, 1, 2, 4, 9, 0, 7, 0,\n",
       "       8, 1, 4, 6, 9, 0, 8, 4, 0, 9, 2, 8, 1, 0, 3, 4, 5, 4, 0, 8, 2, 2,\n",
       "       9, 9, 9, 5, 7, 2, 4, 1, 5, 7, 2, 3, 7, 7, 7, 1, 2, 1, 9, 3, 3, 3,\n",
       "       6, 4, 1, 4, 8, 9, 8, 6, 8, 0, 9, 0, 6, 2, 8, 8, 4, 2, 4, 2, 0, 4,\n",
       "       6, 9, 6, 9, 6, 0, 8, 8, 5, 1, 5, 1, 6, 5, 1, 5, 6, 9, 7, 7, 5, 1,\n",
       "       7, 3, 3, 3, 1, 5, 4, 5, 2, 1, 4, 9, 9, 3, 4, 3, 0, 7, 5, 2, 5, 2,\n",
       "       0, 5, 1, 7, 9, 1, 7, 2, 3, 0, 4, 6, 6, 7, 2, 5, 6, 7, 1, 0, 1, 1,\n",
       "       6, 7, 9, 7, 8, 8, 6, 2, 0, 7, 9, 6, 2, 4, 3, 4, 3, 6, 1, 3, 4, 4,\n",
       "       3, 1, 6, 3, 2, 8, 4, 3, 7, 8, 6, 1, 3, 2, 4, 5, 1, 7, 9, 0, 1, 2,\n",
       "       9, 6, 7, 6, 9, 1, 4, 9, 6, 9, 4, 4, 6, 4, 7, 9, 6, 7, 6, 5, 0, 2,\n",
       "       6, 6, 2, 4, 1, 2, 0, 8, 8, 3, 0, 8, 7, 2, 4, 6, 2, 1, 7, 3, 6, 3,\n",
       "       2, 9, 5, 4, 0, 2, 0, 3, 4, 1, 2, 6, 3, 8, 5, 6, 9, 7, 5, 0, 6, 8,\n",
       "       7, 7, 7, 9, 3, 0, 5, 4, 8, 3, 2, 1, 0, 1, 7, 1, 5, 8, 7, 3, 5, 1,\n",
       "       3, 3, 8, 2, 8, 9, 4, 5, 7, 6, 0, 2, 0, 0, 2, 9, 7, 3, 4, 4, 2, 2,\n",
       "       0, 1, 5, 6, 9, 1, 5, 4, 3, 8, 7, 3, 4, 9, 4, 3, 9, 3, 7, 4, 9, 4,\n",
       "       4, 3, 4, 8, 5, 5, 8, 7, 4, 9, 8, 2, 8, 4, 5, 5, 3, 3, 7, 8, 9, 4,\n",
       "       9, 5, 9, 0, 9, 9, 3, 9, 3, 7])"
      ]
     },
     "execution_count": 77,
     "metadata": {},
     "output_type": "execute_result"
    }
   ],
   "source": [
    "prediction"
   ]
  },
  {
   "cell_type": "markdown",
   "metadata": {},
   "source": [
    "### Whats all this? How to make sense of it?\n",
    "\n",
    "All these numbers stored in the prediction array!What are they? <br>\n",
    "These are the classes of the images in the X_test as <b>predicted by our MLP</b>.\n"
   ]
  },
  {
   "cell_type": "code",
   "execution_count": 78,
   "metadata": {},
   "outputs": [
    {
     "data": {
      "text/plain": [
       "array([7, 5, 6, 0, 9, 0, 9, 2, 5, 4, 8, 0, 2, 4, 2, 7, 6, 9, 7, 7, 9, 8,\n",
       "       4, 0, 2, 2, 0, 0, 6, 0, 8, 2, 5, 1, 0, 5, 8, 1, 6, 3, 8, 5, 7, 5,\n",
       "       1, 9, 3, 9, 0, 9, 9, 7, 8, 7, 8, 3, 4, 4, 1, 4, 5, 7, 7, 9, 0, 0,\n",
       "       4, 0, 6, 7, 3, 3, 0, 7, 7, 2, 1, 8, 8, 1, 9, 2, 2, 8, 1, 1, 3, 5,\n",
       "       4, 7, 0, 1, 8, 5, 6, 6, 6, 9, 3, 2, 0, 0, 9, 1, 2, 4, 9, 0, 7, 0,\n",
       "       8, 1, 4, 6, 9, 0, 8, 4, 0, 9, 2, 8, 1, 0, 3, 4, 5, 4, 0, 8, 2, 2,\n",
       "       9, 9, 9, 5, 7, 2, 4, 1, 5, 7, 2, 3, 4, 7, 7, 1, 2, 1, 9, 3, 3, 3,\n",
       "       6, 4, 1, 4, 8, 9, 8, 6, 8, 0, 9, 0, 6, 2, 8, 8, 4, 2, 4, 2, 0, 4,\n",
       "       6, 9, 6, 9, 6, 0, 8, 8, 5, 1, 5, 1, 6, 5, 1, 5, 6, 9, 7, 7, 5, 1,\n",
       "       7, 3, 3, 3, 1, 5, 4, 5, 2, 1, 4, 9, 9, 3, 4, 3, 0, 7, 5, 2, 5, 3,\n",
       "       0, 5, 1, 7, 9, 1, 7, 2, 3, 0, 4, 6, 6, 7, 2, 5, 6, 7, 1, 0, 1, 1,\n",
       "       6, 7, 9, 7, 8, 8, 6, 2, 0, 7, 9, 6, 1, 4, 3, 4, 3, 6, 6, 3, 4, 4,\n",
       "       3, 1, 6, 3, 2, 8, 4, 3, 7, 8, 6, 1, 3, 2, 4, 5, 1, 7, 9, 0, 1, 2,\n",
       "       9, 6, 7, 6, 9, 1, 4, 9, 6, 9, 4, 4, 6, 4, 7, 9, 6, 7, 6, 5, 0, 2,\n",
       "       6, 6, 2, 4, 1, 2, 0, 5, 8, 3, 0, 8, 7, 2, 4, 6, 2, 1, 7, 3, 6, 3,\n",
       "       2, 9, 5, 4, 0, 2, 0, 3, 4, 1, 2, 6, 3, 8, 5, 6, 9, 7, 5, 0, 6, 8,\n",
       "       7, 9, 7, 9, 3, 0, 5, 4, 8, 3, 2, 1, 0, 1, 7, 8, 5, 8, 7, 3, 5, 1,\n",
       "       3, 3, 8, 2, 8, 9, 4, 5, 7, 6, 0, 2, 0, 0, 2, 9, 7, 3, 4, 4, 2, 2,\n",
       "       0, 8, 5, 6, 9, 1, 5, 4, 3, 8, 7, 3, 4, 3, 4, 3, 9, 2, 7, 4, 9, 4,\n",
       "       4, 3, 4, 3, 5, 5, 8, 7, 4, 9, 8, 2, 8, 4, 5, 5, 3, 3, 7, 8, 9, 4,\n",
       "       9, 5, 3, 0, 9, 7, 3, 5, 3, 7])"
      ]
     },
     "execution_count": 78,
     "metadata": {},
     "output_type": "execute_result"
    }
   ],
   "source": [
    "y_test"
   ]
  },
  {
   "cell_type": "markdown",
   "metadata": {},
   "source": [
    "### Evaluating our model prediction\n",
    "\n",
    "But how do I actully verify the predictions of the model?<br>\n",
    "Remeber the y_test array?<br>It contained all the true output labels of the X_test images.<br>\n",
    "We can compare the prediction and the actual labels(y_test) to see the performace. \n",
    "\n",
    "Use the following piece of code to verify your predictions."
   ]
  },
  {
   "cell_type": "code",
   "execution_count": null,
   "metadata": {},
   "outputs": [],
   "source": [
    "\n"
   ]
  },
  {
   "cell_type": "code",
   "execution_count": 79,
   "metadata": {},
   "outputs": [
    {
     "name": "stdout",
     "output_type": "stream",
     "text": [
      "Misclassified at ctr= 144 Predicted to be :  7 True Label :  4\n",
      "Misclassified at ctr= 219 Predicted to be :  2 True Label :  3\n",
      "Misclassified at ctr= 254 Predicted to be :  2 True Label :  1\n",
      "Misclassified at ctr= 260 Predicted to be :  1 True Label :  6\n",
      "Misclassified at ctr= 315 Predicted to be :  8 True Label :  5\n",
      "Misclassified at ctr= 353 Predicted to be :  7 True Label :  9\n",
      "Misclassified at ctr= 367 Predicted to be :  1 True Label :  8\n",
      "Misclassified at ctr= 397 Predicted to be :  1 True Label :  8\n",
      "Misclassified at ctr= 409 Predicted to be :  9 True Label :  3\n",
      "Misclassified at ctr= 413 Predicted to be :  3 True Label :  2\n",
      "Misclassified at ctr= 421 Predicted to be :  8 True Label :  3\n",
      "Misclassified at ctr= 442 Predicted to be :  9 True Label :  3\n",
      "Misclassified at ctr= 445 Predicted to be :  9 True Label :  7\n",
      "Misclassified at ctr= 447 Predicted to be :  9 True Label :  5\n",
      "Final Score : 436 / 450\n",
      "Number of miscalssifications : 14\n"
     ]
    }
   ],
   "source": [
    "\n",
    "#Evaluating model performance\n",
    "ctr=0\n",
    "score=0\n",
    "misclassified=[]\n",
    "for i,j in zip(y_test,prediction):\n",
    "    if i==j:\n",
    "        score+=1\n",
    "    else:\n",
    "        misclassified.append((X_test[ctr],y_test[ctr],prediction[ctr]))#Logging misclassified data\n",
    "        #misclassified.append((X_test[ctr],output_label[ctr],prediction[ctr])) \n",
    "        print (\"Misclassified at ctr=\",ctr,\"Predicted to be : \",prediction[ctr],\"True Label : \",y_test[ctr])\n",
    "    ctr+=1\n",
    "\n",
    "print (\"Final Score :\",score,\"/\",len(y_test))\n",
    "print (\"Number of miscalssifications :\",len(misclassified))\n"
   ]
  },
  {
   "cell_type": "markdown",
   "metadata": {},
   "source": [
    "### What went wrong?\n",
    "\n",
    "Lets take a look at where the prediction went wrong "
   ]
  },
  {
   "cell_type": "code",
   "execution_count": 80,
   "metadata": {},
   "outputs": [
    {
     "data": {
      "image/png": "[encoded data removed]",
      "text/plain": [
       "<Figure size 432x288 with 1 Axes>"
      ]
     },
     "metadata": {},
     "output_type": "display_data"
    },
    {
     "name": "stdout",
     "output_type": "stream",
     "text": [
      "Expected class : 4\n",
      "Predicted class : 7\n"
     ]
    },
    {
     "data": {
      "image/png": "[encoded data removed]",
      "text/plain": [
       "<Figure size 432x288 with 1 Axes>"
      ]
     },
     "metadata": {},
     "output_type": "display_data"
    },
    {
     "name": "stdout",
     "output_type": "stream",
     "text": [
      "Expected class : 3\n",
      "Predicted class : 2\n"
     ]
    },
    {
     "data": {
      "image/png": "[encoded data removed]",
      "text/plain": [
       "<Figure size 432x288 with 1 Axes>"
      ]
     },
     "metadata": {},
     "output_type": "display_data"
    },
    {
     "name": "stdout",
     "output_type": "stream",
     "text": [
      "Expected class : 1\n",
      "Predicted class : 2\n"
     ]
    },
    {
     "data": {
      "image/png": "[encoded data removed]",
      "text/plain": [
       "<Figure size 432x288 with 1 Axes>"
      ]
     },
     "metadata": {},
     "output_type": "display_data"
    },
    {
     "name": "stdout",
     "output_type": "stream",
     "text": [
      "Expected class : 6\n",
      "Predicted class : 1\n"
     ]
    },
    {
     "data": {
      "image/png": "[encoded data removed]",
      "text/plain": [
       "<Figure size 432x288 with 1 Axes>"
      ]
     },
     "metadata": {},
     "output_type": "display_data"
    },
    {
     "name": "stdout",
     "output_type": "stream",
     "text": [
      "Expected class : 5\n",
      "Predicted class : 8\n"
     ]
    },
    {
     "data": {
      "image/png": "[encoded data removed]",
      "text/plain": [
       "<Figure size 432x288 with 1 Axes>"
      ]
     },
     "metadata": {},
     "output_type": "display_data"
    },
    {
     "name": "stdout",
     "output_type": "stream",
     "text": [
      "Expected class : 9\n",
      "Predicted class : 7\n"
     ]
    },
    {
     "data": {
      "image/png": "[encoded data removed]",
      "text/plain": [
       "<Figure size 432x288 with 1 Axes>"
      ]
     },
     "metadata": {},
     "output_type": "display_data"
    },
    {
     "name": "stdout",
     "output_type": "stream",
     "text": [
      "Expected class : 8\n",
      "Predicted class : 1\n"
     ]
    },
    {
     "data": {
      "image/png": "[encoded data removed]",
      "text/plain": [
       "<Figure size 432x288 with 1 Axes>"
      ]
     },
     "metadata": {},
     "output_type": "display_data"
    },
    {
     "name": "stdout",
     "output_type": "stream",
     "text": [
      "Expected class : 8\n",
      "Predicted class : 1\n"
     ]
    },
    {
     "data": {
      "image/png": "[encoded data removed]",
      "text/plain": [
       "<Figure size 432x288 with 1 Axes>"
      ]
     },
     "metadata": {},
     "output_type": "display_data"
    },
    {
     "name": "stdout",
     "output_type": "stream",
     "text": [
      "Expected class : 3\n",
      "Predicted class : 9\n"
     ]
    },
    {
     "data": {
      "image/png": "[encoded data removed]",
      "text/plain": [
       "<Figure size 432x288 with 1 Axes>"
      ]
     },
     "metadata": {},
     "output_type": "display_data"
    },
    {
     "name": "stdout",
     "output_type": "stream",
     "text": [
      "Expected class : 2\n",
      "Predicted class : 3\n"
     ]
    },
    {
     "data": {
      "image/png": "[encoded data removed]",
      "text/plain": [
       "<Figure size 432x288 with 1 Axes>"
      ]
     },
     "metadata": {},
     "output_type": "display_data"
    },
    {
     "name": "stdout",
     "output_type": "stream",
     "text": [
      "Expected class : 3\n",
      "Predicted class : 8\n"
     ]
    },
    {
     "data": {
      "image/png": "[encoded data removed]",
      "text/plain": [
       "<Figure size 432x288 with 1 Axes>"
      ]
     },
     "metadata": {},
     "output_type": "display_data"
    },
    {
     "name": "stdout",
     "output_type": "stream",
     "text": [
      "Expected class : 3\n",
      "Predicted class : 9\n"
     ]
    },
    {
     "data": {
      "image/png": "[encoded data removed]",
      "text/plain": [
       "<Figure size 432x288 with 1 Axes>"
      ]
     },
     "metadata": {},
     "output_type": "display_data"
    },
    {
     "name": "stdout",
     "output_type": "stream",
     "text": [
      "Expected class : 7\n",
      "Predicted class : 9\n"
     ]
    },
    {
     "data": {
      "image/png": "[encoded data removed]",
      "text/plain": [
       "<Figure size 432x288 with 1 Axes>"
      ]
     },
     "metadata": {},
     "output_type": "display_data"
    },
    {
     "name": "stdout",
     "output_type": "stream",
     "text": [
      "Expected class : 5\n",
      "Predicted class : 9\n"
     ]
    }
   ],
   "source": [
    "\n",
    "#Looking at our misclassification\n",
    "for data in misclassified:\n",
    "    plt.imshow(data[0].reshape(8,8))\n",
    "    plt.show()\n",
    "    print (\"Expected class :\",data[1])\n",
    "    print (\"Predicted class :\",data[2])"
   ]
  },
  {
   "cell_type": "markdown",
   "metadata": {
    "collapsed": true
   },
   "source": [
    "## So is this the best the MLP can perform?\n",
    "\n",
    "We can expect better results from our network by quite a few ways but lets take a look at what we are'nt doing right->\n",
    "\n",
    "#### Challenges\n",
    "* It is usually noticed that Neural Networks perform best when the volume of our data is large.(our dataset is only about 1700 samples, which isn't as big in the ML world).\n",
    "\n",
    "\n",
    "* As we convert the the 2-D image into a 1-D vector for training purpose our dimensional corelation is lost.This problem was overcome by using a new type of Neural Networks called Convolutional Neural Nets(CNN). \n",
    "    (Ref :  __[CNN Paper - Yann LeCun ](http://yann.lecun.com/exdb/publis/pdf/lecun-01a.pdf)__ )\n",
    "\n"
   ]
  },
  {
   "cell_type": "markdown",
   "metadata": {},
   "source": [
    "### ML != Neural Nets \n",
    "There are loads of other algorithms depending on the learning problem one is trying to solve.\n",
    "But yes,NN have proven to out-perform most other algorithm in cases which involes large datasets(which in today todays world is the most often case)."
   ]
  },
  {
   "cell_type": "markdown",
   "metadata": {},
   "source": [
    "### What other choice do we have?\n",
    "   We can look into out ml-module(sci-kit learn) documentation for help!\n",
    "  __[Model Map](http://scikit-learn.org/stable/tutorial/machine_learning_map/index.html)__\n",
    "    "
   ]
  },
  {
   "cell_type": "markdown",
   "metadata": {},
   "source": [
    "### Lets try a SVM?"
   ]
  },
  {
   "cell_type": "code",
   "execution_count": 2,
   "metadata": {},
   "outputs": [],
   "source": [
    "from sklearn import svm\n",
    "\n",
    "#Defining ous model - Support Vector Machine\n",
    "svm_model=svm.SVC(gamma=0.001)\n"
   ]
  },
  {
   "cell_type": "markdown",
   "metadata": {},
   "source": [
    "### Training the SVM"
   ]
  },
  {
   "cell_type": "code",
   "execution_count": 87,
   "metadata": {},
   "outputs": [
    {
     "name": "stdout",
     "output_type": "stream",
     "text": [
      "[LibSVM]"
     ]
    },
    {
     "data": {
      "text/plain": [
       "SVC(C=1.0, cache_size=200, class_weight=None, coef0=0.0,\n",
       "  decision_function_shape='ovr', degree=3, gamma=0.001, kernel='rbf',\n",
       "  max_iter=-1, probability=False, random_state=None, shrinking=True,\n",
       "  tol=0.001, verbose=True)"
      ]
     },
     "execution_count": 87,
     "metadata": {},
     "output_type": "execute_result"
    }
   ],
   "source": [
    "#Fitting the training data to the model\n",
    "svm_model.fit(X_train,y_train)"
   ]
  },
  {
   "cell_type": "markdown",
   "metadata": {},
   "source": [
    "### Making Prediction"
   ]
  },
  {
   "cell_type": "code",
   "execution_count": 83,
   "metadata": {},
   "outputs": [],
   "source": [
    "#Making predictions with our model\n",
    "svm_prediction=svm_model.predict(X_test)"
   ]
  },
  {
   "cell_type": "code",
   "execution_count": 84,
   "metadata": {},
   "outputs": [
    {
     "name": "stdout",
     "output_type": "stream",
     "text": [
      "Misclassified at ctr= 49\n",
      "Misclassified at ctr= 151\n",
      "Misclassified at ctr= 315\n",
      "Misclassified at ctr= 360\n",
      "Misclassified at ctr= 367\n",
      "Misclassified at ctr= 397\n",
      "Misclassified at ctr= 442\n",
      "Misclassified at ctr= 445\n",
      "Misclassified at ctr= 447\n",
      "Score : 441 / 450\n"
     ]
    }
   ],
   "source": [
    "\n",
    "#Evaluating model performance\n",
    "ctr=0\n",
    "score=0\n",
    "misclassified=[]\n",
    "for i,j in zip(y_test,svm_prediction):\n",
    "    if i==j:\n",
    "        score+=1\n",
    "    else:\n",
    "      misclassified.append((X_test[ctr],y_test[ctr],svm_prediction[ctr])) #Logging misclassified data\n",
    "      print (\"Misclassified at ctr=\",ctr)\n",
    "    ctr+=1\n",
    "\n",
    "print (\"Score :\",score,\"/\",len(y_test))"
   ]
  },
  {
   "cell_type": "code",
   "execution_count": 85,
   "metadata": {},
   "outputs": [
    {
     "data": {
      "image/png": "[encoded data removed]",
      "text/plain": [
       "<Figure size 432x288 with 1 Axes>"
      ]
     },
     "metadata": {},
     "output_type": "display_data"
    },
    {
     "name": "stdout",
     "output_type": "stream",
     "text": [
      "Expected class : 9\n",
      "Predicted class : 7\n"
     ]
    },
    {
     "data": {
      "image/png": "[encoded data removed]",
      "text/plain": [
       "<Figure size 432x288 with 1 Axes>"
      ]
     },
     "metadata": {},
     "output_type": "display_data"
    },
    {
     "name": "stdout",
     "output_type": "stream",
     "text": [
      "Expected class : 3\n",
      "Predicted class : 2\n"
     ]
    },
    {
     "data": {
      "image/png": "[encoded data removed]",
      "text/plain": [
       "<Figure size 432x288 with 1 Axes>"
      ]
     },
     "metadata": {},
     "output_type": "display_data"
    },
    {
     "name": "stdout",
     "output_type": "stream",
     "text": [
      "Expected class : 5\n",
      "Predicted class : 6\n"
     ]
    },
    {
     "data": {
      "image/png": "[encoded data removed]",
      "text/plain": [
       "<Figure size 432x288 with 1 Axes>"
      ]
     },
     "metadata": {},
     "output_type": "display_data"
    },
    {
     "name": "stdout",
     "output_type": "stream",
     "text": [
      "Expected class : 8\n",
      "Predicted class : 1\n"
     ]
    },
    {
     "data": {
      "image/png": "[encoded data removed]",
      "text/plain": [
       "<Figure size 432x288 with 1 Axes>"
      ]
     },
     "metadata": {},
     "output_type": "display_data"
    },
    {
     "name": "stdout",
     "output_type": "stream",
     "text": [
      "Expected class : 8\n",
      "Predicted class : 1\n"
     ]
    },
    {
     "data": {
      "image/png": "[encoded data removed]",
      "text/plain": [
       "<Figure size 432x288 with 1 Axes>"
      ]
     },
     "metadata": {},
     "output_type": "display_data"
    },
    {
     "name": "stdout",
     "output_type": "stream",
     "text": [
      "Expected class : 8\n",
      "Predicted class : 1\n"
     ]
    },
    {
     "data": {
      "image/png": "[encoded data removed]",
      "text/plain": [
       "<Figure size 432x288 with 1 Axes>"
      ]
     },
     "metadata": {},
     "output_type": "display_data"
    },
    {
     "name": "stdout",
     "output_type": "stream",
     "text": [
      "Expected class : 3\n",
      "Predicted class : 7\n"
     ]
    },
    {
     "data": {
      "image/png": "[encoded data removed]",
      "text/plain": [
       "<Figure size 432x288 with 1 Axes>"
      ]
     },
     "metadata": {},
     "output_type": "display_data"
    },
    {
     "name": "stdout",
     "output_type": "stream",
     "text": [
      "Expected class : 7\n",
      "Predicted class : 9\n"
     ]
    },
    {
     "data": {
      "image/png": "[encoded data removed]",
      "text/plain": [
       "<Figure size 432x288 with 1 Axes>"
      ]
     },
     "metadata": {},
     "output_type": "display_data"
    },
    {
     "name": "stdout",
     "output_type": "stream",
     "text": [
      "Expected class : 5\n",
      "Predicted class : 9\n"
     ]
    }
   ],
   "source": [
    "\n",
    "#Looking at our misclassification\n",
    "for data in misclassified:\n",
    "    plt.imshow(data[0].reshape(8,8))\n",
    "    \n",
    "    plt.show()\n",
    "    print (\"Expected class :\",data[1])\n",
    "    print (\"Predicted class :\",data[2])"
   ]
  },
  {
   "cell_type": "code",
   "execution_count": null,
   "metadata": {
    "collapsed": true
   },
   "outputs": [],
   "source": []
  }
 ],
 "metadata": {
  "kernelspec": {
   "display_name": "Python 3",
   "language": "python",
   "name": "python3"
  },
  "language_info": {
   "codemirror_mode": {
    "name": "ipython",
    "version": 3
   },
   "file_extension": ".py",
   "mimetype": "text/x-python",
   "name": "python",
   "nbconvert_exporter": "python",
   "pygments_lexer": "ipython3",
   "version": "3.6.6"
  }
 },
 "nbformat": 4,
 "nbformat_minor": 2
}
